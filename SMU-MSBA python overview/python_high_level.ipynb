{
 "cells": [
  {
   "cell_type": "markdown",
   "metadata": {},
   "source": [
    "# MSBA python high level\n",
    "#### Why python is useful\n",
    "\n",
    "* python often is listed on job descriptions as skils required or desired.\n",
    "* the range of solutions provided by python\n",
    "* python is free"
   ]
  },
  {
   "cell_type": "markdown",
   "metadata": {},
   "source": [
    "## Job Postings in relation to python"
   ]
  },
  {
   "cell_type": "markdown",
   "metadata": {},
   "source": [
    "\n",
    "| Position Key Words    | python jobs | sql jobs | Result                             |\n",
    "|-----------------------|-------------|----------|------------------------------------|\n",
    "| Data Analyst          | 15,265      | 34,166   | 123% more jobs with sql keyword    |\n",
    "| Data Engineer         | 38,199      | 27,270   | 40% more jobs with python keyword  |\n",
    "| Data Scientist        | 14,916      | 9,319    | 60% more jobs with python keyword  |\n",
    "| Business Analyst      | 1,136       | 12,977   | 1,042% more jobs with sql keyword |\n",
    "| **Total**                 | **69,576**      | **83,732**   | More postings related to sql keyword |"
   ]
  },
  {
   "cell_type": "markdown",
   "metadata": {},
   "source": [
    "## Range of Soutions solved by python\n",
    "\n",
    "* data manipulation (numpy and pandas) \n",
    "* data visualization (matplotlib/seaborn or interactive with dash and plot.ly)\n",
    "* web scraping \n",
    "* do web development \n",
    "* python as a connection utility*\n"
   ]
  },
  {
   "cell_type": "code",
   "execution_count": null,
   "metadata": {},
   "outputs": [],
   "source": [
    " "
   ]
  }
 ],
 "metadata": {
  "kernelspec": {
   "display_name": "Python 3",
   "language": "python",
   "name": "python3"
  },
  "language_info": {
   "codemirror_mode": {
    "name": "ipython",
    "version": 3
   },
   "file_extension": ".py",
   "mimetype": "text/x-python",
   "name": "python",
   "nbconvert_exporter": "python",
   "pygments_lexer": "ipython3",
   "version": "3.8.2"
  }
 },
 "nbformat": 4,
 "nbformat_minor": 4
}
